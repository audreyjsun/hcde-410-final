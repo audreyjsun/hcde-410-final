{
 "cells": [
  {
   "cell_type": "markdown",
   "id": "ef786a4a-134a-4bb6-ba25-06d2fa66bee9",
   "metadata": {},
   "source": [
    "# A4: Final project preliminary proposal"
   ]
  },
  {
   "cell_type": "markdown",
   "id": "5e90fb5c-f46a-4e6f-a435-986e17595e21",
   "metadata": {},
   "source": [
    "## Motivation and problem statement: \n",
    "I am planning on doing this analysis because I’ve always been curious about the impacts of social media on young minds and their mental health. I believe it could be useful in a very practical sense, learning about the negative effects of social media could bring awareness to how, as a consumer, I should be cautious in navigating these platforms and the ways they may be subconsciously affecting me. I hope to learn more about how social media is used amongst students, and how mental health has been impacted as a byproduct of this growing media. This specific time frame for the data sets (the 2010s) is particularly interesting to me because it really encapsulates the boom of social media. It’s important for me to also consider other factors, such as the greater general awareness of mental health when evaluating the data. But I hope to at least discover correlations within the data to further emphasize the unintentional consequences of social media. \n"
   ]
  },
  {
   "cell_type": "markdown",
   "id": "af88a7a5-59b3-4420-bedd-6efd2ee59de4",
   "metadata": {},
   "source": [
    "## Data selected for analysis: \n",
    "***Major social media stock prices 2012-2022***\n",
    "\n",
    "https://www.kaggle.com/datasets/prasertk/major-social-media-stock-prices-20122022\n",
    "\n",
    "License: CC0: Public Domain\n",
    "\n",
    "This dataset shows the stock prices of major social media platforms over the last decade. I believe this would be helpful in learning about how and when these social media platforms became as popular and widely used amongst the general public. \n",
    "\n",
    "\n",
    "***Student Social Anxiety Survey***\n",
    "\n",
    "https://www.kaggle.com/datasets/carlsonhoo/university-social-anxiety-survey\n",
    "\n",
    "License: Unknown\n",
    "\n",
    "This dataset shows social anxiety trends amongst students through survey results asking about social media usage, and general feelings in social situations. I believe this would be useful in understanding how much students are using social media, as well as the types of social anxiety experienced. \n",
    "\n",
    "\n",
    "***Time trends and disparities in anxiety among adolescents, 2012–2018***\n",
    "\n",
    "https://link.springer.com/article/10.1007/s00127-021-02122-9\n",
    "\n",
    "https://github.com/katharineparodi/dcya-anxiety-sppe\n",
    "\n",
    "License: Unknown\n",
    "\n",
    "This data set shows the prevalence of anxiety amongst adolescents from 2012 to 2018. This information is useful to understand the ways anxiety levels have changed during a pivotal time of social media growth. \n",
    " \n"
   ]
  },
  {
   "cell_type": "markdown",
   "id": "c40ddcfd-469d-4548-aca4-cf3dc950fbaa",
   "metadata": {},
   "source": [
    "## Unknowns and dependencies: \n",
    "One factor that may impact my ability to complete this project is that mental health is a very complicated problem, that has many varying factors that can be impacting it. In drawing my conclusions, it may be difficult to come to an answer with certainty without fully delving into the other possible causes for these trends. With more time and resources, I would be curious to learn more about the impacting factors of anxiety, however in the time allotted, I’m unsure how well I will be able to document those aspects."
   ]
  },
  {
   "cell_type": "markdown",
   "id": "f0257e67-8e37-4eb0-bbcb-bf9dd46b94b7",
   "metadata": {},
   "source": [
    "# A5: Final Project Plan"
   ]
  },
  {
   "cell_type": "markdown",
   "id": "46f72937-ddb4-4e68-b82f-95da1d3b52c2",
   "metadata": {},
   "source": [
    "## Research Questions & Hypotheses:\n",
    "- How does social media engagement amongst students (ages 14-30) affect their anxiety levels?\n",
    "- What effects does social media have on students's mental health/outlook on life?\n",
    "- How are students that have grown up with social media versus those who have not, differently impacted by the mental effects of social media?\n",
    "- Is there a direct correlation between social media and anxiety/depression?"
   ]
  },
  {
   "cell_type": "markdown",
   "id": "29e29a55-3fbe-430d-9da7-6e612a1f4e6d",
   "metadata": {},
   "source": [
    "## Background and/or Related Work:\n",
    "***A systematic review: the influence of social media on depression, anxiety and psychological distress in adolescents***\n",
    "https://www.tandfonline.com/doi/full/10.1080/02673843.2019.1590851\n",
    "\n",
    "There is already a great deal of research around social media and its affects on mental health and one's well being, this article stated that the impact of social media use on depression, anxiety and psychological distress among adolescents, is likely to be multifactorial. That although there is correlation, it is uncertain whether it can be claimed as a direct correlation. It emphasizes that it is important to distinguish between the terms used for the relationship. It is valid to say that there is an \"association\" between social media use and mental health problems, but it is not necessarily scientifically valid. The article clarifies that correlation is statistical, not phenomenal. That in order for there to be causation, it requires directional evidence, and unfortunately it has not been adequately investigated in this topic. Therefore, the relationship is correlational but not conclusively causative.\n",
    "\n",
    "After reading this article, it does make me question to what degree I will be able to make any claims on such a complex subject. Mental health is a multifaceted concept that is still being understood, which makes it difficult to make any large/overarching claims for. I think this is important to keep in mind as I move forward in my research, remembering that it is likely I will not find hard evidence to how social media is a cause for anxiety, but to not be discouraged continue pushing through to discover as much as I can"
   ]
  },
  {
   "cell_type": "markdown",
   "id": "f7abb7c1-46c9-4923-a50d-c8353dea87d8",
   "metadata": {},
   "source": [
    "## Methodology:\n",
    "**Analytical Method:** I will be using an associational statistical analysis method to analyze these dataset. Associational statistics is a tool researchers use to make predictions and find causation, finding relationships among multiple variables to make inferences about a data set from the characteristics of another set of data. I hope to do this through learning how social media platforms have grown over a timespan (the last decade), and how during that same time frame students's anxiety levels/overall mental health has been affected.  \n",
    "\n",
    "**Presenting my Findings:** I plan to present my findings in some time of line or dot graph with two different lines, showcasing the trends of social media prevelance and anxiety levels among students comparatively over the last decade. I believe a line/dot graph would be the most visual way to show the increase or decrease of these variables, and if there is a correlation between them.\n"
   ]
  },
  {
   "cell_type": "code",
   "execution_count": null,
   "id": "a102cfee-0cb8-4584-af9c-4c496a9427a7",
   "metadata": {},
   "outputs": [],
   "source": []
  }
 ],
 "metadata": {
  "kernelspec": {
   "display_name": "Python 3 (ipykernel)",
   "language": "python",
   "name": "python3"
  },
  "language_info": {
   "codemirror_mode": {
    "name": "ipython",
    "version": 3
   },
   "file_extension": ".py",
   "mimetype": "text/x-python",
   "name": "python",
   "nbconvert_exporter": "python",
   "pygments_lexer": "ipython3",
   "version": "3.9.7"
  }
 },
 "nbformat": 4,
 "nbformat_minor": 5
}
