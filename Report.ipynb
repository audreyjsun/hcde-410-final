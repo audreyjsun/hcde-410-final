{
 "cells": [
  {
   "cell_type": "markdown",
   "id": "885f5003-d213-46c1-848d-0491ce43a7bc",
   "metadata": {},
   "source": [
    "# Final Project Report"
   ]
  },
  {
   "cell_type": "markdown",
   "id": "bfcb5696-7bbb-4c32-b051-708303a5cf99",
   "metadata": {},
   "source": [
    "## Introduction"
   ]
  },
  {
   "cell_type": "markdown",
   "id": "30f6c180-d336-4ed0-8632-704710b6113a",
   "metadata": {},
   "source": [
    "Over the last decade, and especially in these last couple years of Covid, technology as well as the internet have grown at an exponential rate. With that, one aspect of that growth that I as a consumer have particularly seen affect my own life norms and views, is the presence and power of social media. It wasn't until more recently I had noticed the subconsious effects of these seemingly harmless platforms. These platforms that were introduced as a simple and easy way to stay connected with others, have instead become a detraction to users' ability to socialize. My goal in this project is to see how different levels of investment in social media affect users' social anxiety. "
   ]
  },
  {
   "cell_type": "markdown",
   "id": "ea9e2792-fdee-4dd6-9924-d4f428ef6f93",
   "metadata": {},
   "source": [
    "## Background"
   ]
  },
  {
   "cell_type": "markdown",
   "id": "5c930d91-0e99-46a0-8d48-40af92107b34",
   "metadata": {},
   "source": [
    "There is already a great deal of research around social media and its affects on mental health and one's well being. One article, [***A systematic review: the influence of social media on depression, anxiety and psychological distress in adolescents***](https://www.tandfonline.com/doi/full/10.1080/02673843.2019.1590851), stated that the impact of social media use on depression, anxiety and psychological distress among adolescents, is likely to be multifactorial. That although there is correlation, it is uncertain whether it can be claimed as a direct correlation. It emphasizes that it is important to distinguish between the terms used for the relationship. It is valid to say that there is an \"association\" between social media use and mental health problems, but it is not necessarily scientifically valid. Clarifying that correlation is statistical, not phenomenal. That in order for there to be causation, it requires directional evidence, and unfortunately it has not been adequately investigated in this topic. Therefore, the relationship is correlational but not conclusively causative.\n",
    "\n",
    "As the problem scope of mental health is so vast and ambiguous, I chose to hone in on the effects on social anxiety. Investigating how ironically something created to promote social engagement, may be doing the opposite."
   ]
  },
  {
   "cell_type": "markdown",
   "id": "e7f509f0-a236-4f45-9db7-cb85b0453812",
   "metadata": {},
   "source": [
    "## Research Question"
   ]
  },
  {
   "cell_type": "markdown",
   "id": "76b8184b-cc77-402a-addd-f52b53ffd618",
   "metadata": {},
   "source": [
    "How does social media engagement amongst students (ages 18-25) affect their behavior and attitude in social settings?\n",
    "\n",
    "**Supporting questions:**\n",
    "- What effects does social media have on students's ability to socialize?\n",
    "- How aware are students of the impacts social media may be having in their social attitude/behavior?\n",
    "- Are students aware of their own investment to social media?\n",
    "\n",
    "My prediction is that there will be a positive correlation between social media usage and social anxiety levels."
   ]
  },
  {
   "cell_type": "markdown",
   "id": "d37ca1da-c798-4b7e-b01e-6820451f0b39",
   "metadata": {},
   "source": [
    "## Methodology"
   ]
  },
  {
   "cell_type": "markdown",
   "id": "242698aa-2ae2-4359-bb4e-b1c86bf0b46c",
   "metadata": {},
   "source": [
    "The main data set I will be using for my analysis is a set of survey responses I have collected on students social media engagement and their comfortability in social situations. I have structured my survey following a study conducted by another university student on [Student Social Anxiety](https://www.kaggle.com/datasets/carlsonhoo/university-social-anxiety-survey). Using the same *6 Liebowitz Social Anxiety Scale* questions presented in their survey (Q1-7), accompanied with further behavioral questions from another study about [*Time trends and disparities in anxiety among adolescents*](https://link.springer.com/article/10.1007/s00127-021-02122-9) (Q8-10). As well as further information about users' predicted social media usage, and the actual average usage reported on their phone. \n",
    "\n",
    "[**Survey Questions:**](https://forms.gle/v4zyj1Qd59JF8FL49) \n",
    "\n",
    "1. On an average week how often do you use any form of social media?\n",
    "2. If you have Screen Time (on iOS) enabled, please upload a screenshot of your Social category statistics from last week.\n",
    "3. About how many hours per day do you spend on social media?\n",
    "4. How do you feel being the center of attention?\n",
    "5. How do you feel working while being observed?\n",
    "6. How do you feel talking face to face with someone you don’t know very well?\n",
    "7. How do you feel expressing disagreement or disapproval to someone you don’t know very well?\n",
    "8. How often have you been bothered by the following problems? (1) Feeling nervous, anxious, or on edge, and (2) Not being able to stop or control worrying.\n",
    "9. How often are you extremely conscious of your actions when in social settings, because you fear they might offend someone or you could be rejected?\n",
    "10. How often do you feel anxious or panicky before social situations?\n",
    "\n",
    "\n",
    "[***Example of reported Social Media usage:***](https://drive.google.com/drive/folders/1hAMTs2wNOxSdtqOw5TvcDlds_WwFqjs8jUXTg1tzIg7-8xa5NcnDqhpwtHffXLijfeKgbMSc)\n",
    "![usage.jpeg](./usage.jpeg)\n",
    "\n",
    "\n",
    "I chose to create my own survey and collect my own data because although both data sets collected rich data on anxiety/social anxiety amongst students, they lacked much information on those individual's social media engagement, making it difficult to distinguish correlations between the two. The survey was sent out in a Google Form, consisting of all multiple choice questions in the form of a likert scale, and a single question addressing their phone's report of their social media usage. In total I recieved 28 responses from university students ages 19-25. I then organized the data in a Google Sheet, calculating a social anxiety score based on the diffrent behavioral questions. Correlating each response on the likert scale to a numerical value and summing them up, the higher the total representing a higher social anxiety level. \n",
    "\n",
    "\n",
    "[***Data Set:***](https://docs.google.com/spreadsheets/d/1WrjUlFrr9DEzBkDhf9rtH5T4ucE5VSZ5CBgBD1eYm78/edit?usp=sharing)\n",
    "![data.png](./data.png)"
   ]
  },
  {
   "cell_type": "markdown",
   "id": "6d1426c1-0eda-4750-9744-85d3729403fa",
   "metadata": {},
   "source": [
    "## Findings"
   ]
  },
  {
   "cell_type": "markdown",
   "id": "4d0648c5-3a0f-4809-b456-a23d7251c436",
   "metadata": {},
   "source": [
    "I began my analysis by calculating the total social anxiety score, based on the responses for all of the behavioral questions (shown in the column \"Total\"). I then compared that to the total hours a week reported by their phones in a scatter chart with a trend line to show a general correlation. As expected, there was a positive correlation between the two, as the total hours increased (x-axis) the social anxiety score also increased (y-axis).\n",
    "\n",
    "![actual.png](./actual.png)\n",
    "\n",
    "Another aspect I was interested in learning about was how accurately users were able to make these assumptions about their social media usage and their social behavior. As both factors, anxiety and time investment, require a certain deal of self-awareness. I was curious to see how accurately users were able to identify these behaviors within themselves, and in turn see how aware people may be about their habits and the effects of them. In order to do so I first compared the respondents actual versus predicted hours a day they spend on social media. Surprisingly nearly every responses predicted a greater amount than the actual time spent. \n",
    "\n",
    "![hoursDay.png](./hoursDay.png)\n",
    "\n",
    "As for social anxiety awareness, I calculated two different average anxiety scores, the first calculated from the 6 Liebowitz Social Anxiety Scale questions which asked more implicit behavioral questions and the second from the other study which asked more explicitly about anxiety. I found the implicit behavioral questions to have a higher average anxiety score than those from the explicit behavior prompts.\n",
    "\n",
    "![behavior.png](./behavior.png)\n"
   ]
  },
  {
   "cell_type": "markdown",
   "id": "71b026b0-7e52-48a3-83a2-cc16d6b0442d",
   "metadata": {},
   "source": [
    "## Discussion"
   ]
  },
  {
   "cell_type": "markdown",
   "id": "f6bad4e1-9fe3-4bc1-98ee-fbed0f8fb632",
   "metadata": {},
   "source": [
    "The results confirmed my prediction that the more time spent on social media tends to result in more social anxiety. It is also important to keep in mind that this is still a very general correlation, as there are outliers that fall in both categories. Where the respondent with the highest social anxiety score is in the lower half of social media usage, and the respondent with the highest social media usage is in the lower half of the social anxiety score. This reemphasizing how this problem is much more complex than just a direct correlation of time spent and anxiety.\n",
    "\n",
    "It is clear users are aware of the presence of social media in their lives, according to the respondents's predictions it seems they almost overestimate how large of a role it plays in their lives. The data is still a very small set being only 28 data points, also only focused on one week of activity, so it is difficult to make that assumption generally. However, the number of hours alone, I do see there is a large amount of time consistently being dedicated to social media. With not a single person reporting no engagement, I do believe social media is built into the routine of many in this age group. And with this level of consistency, there must be impacts that come as a result of it.\n",
    "\n",
    "As mentioned, both factors require a great deal of self-awareness to identify, and it is possible self-reporting is not the best method of understanding the issue. What largely interests me is the way implicit behaviors were scoring much higher than explicit behaviors, leading me to believe there must be some reluctancy in categorizing certain feelings as anxiety even if that is an accurate label. There seems to be a lot of ambiguity around anxiety, the word alone carrying strong associations, which makes me wonder how that may have biased respondents in the way they identified their feelings. There are many layers to both social anxiety and social media, and a lot of subconscious tendencies built around both. Due to this, it is difficult to come to a definitive point with this data, but there are a plethora of questions to be asked because of it. "
   ]
  },
  {
   "cell_type": "markdown",
   "id": "06f22460-7e1b-4405-b1e9-ba83fde5ba19",
   "metadata": {},
   "source": [
    "## Conclusion"
   ]
  },
  {
   "cell_type": "markdown",
   "id": "5c79af65-d4f1-4611-be4b-46fea4580eb6",
   "metadata": {},
   "source": [
    "This investigation shed some light onto how social media may be affecting social behavior and anxiety, however, there is still so much to uncover. In furthering this understanding I am curious to learn more about the way users interact with social media and how that makes one feel. A topic such as anxiety is very difficult to unpack as feelings are hard to quantify into a stastical method for comparison. I believe there is enough correlation to say there are clearly mentally impacting effects from social media, but the cause goes much deeper than just time spent engaging with it. I would love to further explore how social media is interacted with, what purpose it serves in people's lives, and how that dictates aspects of their lives outside of it. "
   ]
  }
 ],
 "metadata": {
  "kernelspec": {
   "display_name": "Python 3 (ipykernel)",
   "language": "python",
   "name": "python3"
  },
  "language_info": {
   "codemirror_mode": {
    "name": "ipython",
    "version": 3
   },
   "file_extension": ".py",
   "mimetype": "text/x-python",
   "name": "python",
   "nbconvert_exporter": "python",
   "pygments_lexer": "ipython3",
   "version": "3.9.7"
  }
 },
 "nbformat": 4,
 "nbformat_minor": 5
}
